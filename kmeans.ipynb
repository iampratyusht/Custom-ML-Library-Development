{
 "cells": [
  {
   "cell_type": "code",
   "execution_count": 1,
   "id": "6493030e",
   "metadata": {},
   "outputs": [],
   "source": [
    "import numpy as np\n",
    "import matplotlib.pyplot as plt"
   ]
  },
  {
   "cell_type": "code",
   "execution_count": 2,
   "id": "4ae63d98",
   "metadata": {},
   "outputs": [],
   "source": [
    "def load_data(l):\n",
    "    data=np.loadtxt(l,delimiter=\",\",skiprows=1)\n",
    "    return data"
   ]
  },
  {
   "cell_type": "code",
   "execution_count": 3,
   "id": "cc1e3cfa",
   "metadata": {},
   "outputs": [],
   "source": [
    "def _init_centroids(X, K):\n",
    "    randidx = np.random.permutation(X.shape[0])\n",
    "    centroids = X[randidx[:K]]\n",
    "    return centroids\n",
    "def dist(X, c):\n",
    "    X_n = np.sum(X**2, axis=1)\n",
    "    c_n = np.sum(c**2, axis=1)\n",
    "    X_dot_c = -2 * X @ c.T\n",
    "    distance = (c_n + X_dot_c) + X_n.reshape((X.shape[0], 1))\n",
    "    return distance\n",
    "def nearest(distance):\n",
    "    classes = np.argmin(distance, axis=1)\n",
    "    return classes\n",
    "def updating(X, classes, K):\n",
    "    n = X.shape[1]\n",
    "    c = np.zeros((K, n))\n",
    "    clusters = []\n",
    "    for i in range(K):\n",
    "        c_i = X[classes == i]\n",
    "        clusters.append(c_i)\n",
    "        c[i] = np.mean(c_i, axis=0)\n",
    "    return c , clusters"
   ]
  },
  {
   "cell_type": "code",
   "execution_count": 4,
   "id": "d7fdba36",
   "metadata": {},
   "outputs": [],
   "source": [
    "def run_kMeans(X, K, dist, _init_centroids, steps):\n",
    "    m, n = X.shape\n",
    "    centroids = _init_centroids(X, K)\n",
    "    for i in range(steps):\n",
    "        distance = dist(X, centroids)\n",
    "        previous_centroids = centroids\n",
    "        classes = nearest(distance)\n",
    "        centroids,clusters = updating(X, classes, K)\n",
    "        if np.array_equal(previous_centroids,centroids):\n",
    "            break\n",
    "    n_d = np.zeros((K,n))\n",
    "    for k in range(K):\n",
    "        n_d[k] = np.sum(dist(clusters[k],centroids[k].reshape(1,n)))\n",
    "    cost = np.sum(n_d)\n",
    "    return centroids, classes ,cost , i\n",
    "\n",
    "def checking_K(X, max_k, steps, dist):\n",
    "    cost_list, K_list = [], []\n",
    "    centroid = []\n",
    "    for k in range(1, max_k + 1):\n",
    "        K_list.append(k)\n",
    "        centroids, classes,cost,i = run_kMeans(X, k, dist, _init_centroids, steps)\n",
    "        centroid.append(centroids)\n",
    "        print(f\"K-Means cluster: {k} ---- No. of iteration: {i} ---- final distance: {cost}\")\n",
    "        cost_list.append(cost)\n",
    "    return cost_list, K_list,centroid"
   ]
  },
  {
   "cell_type": "code",
   "execution_count": 5,
   "id": "8bca63c8",
   "metadata": {},
   "outputs": [],
   "source": [
    "def plot(cost, K_list):\n",
    "    plt.plot(K_list, cost, c=\"r\", label=\"Cost\"),plt.scatter(K_list, cost, c=\"b\")\n",
    "    plt.xlabel(\"Number of Clusters (k)\"),plt.ylabel(\"Cost\"),plt.title(\"optimization of No. of centroid: Elbow\")\n",
    "    plt.legend()\n",
    "    plt.show()\n",
    "\n",
    "def find_k(cost, K_list):\n",
    "    first_diff = np.diff(cost)\n",
    "    second_diff = np.diff(first_diff)\n",
    "    elbow_index = np.argmax(second_diff) + 2\n",
    "    optimal_k = K_list[elbow_index - 1]\n",
    "    return optimal_k"
   ]
  },
  {
   "cell_type": "code",
   "execution_count": 6,
   "id": "98fac7c1",
   "metadata": {},
   "outputs": [],
   "source": [
    "# Example usage\n",
    "X = load_data(\"Kmean_dataset.csv\")"
   ]
  },
  {
   "cell_type": "code",
   "execution_count": 8,
   "id": "41affc05",
   "metadata": {},
   "outputs": [
    {
     "name": "stdout",
     "output_type": "stream",
     "text": [
      "K-Means cluster: 1 ---- No. of iteration: 1 ---- final distance: 228699852.9856099\n",
      "K-Means cluster: 2 ---- No. of iteration: 9 ---- final distance: 59094701.797291875\n",
      "K-Means cluster: 3 ---- No. of iteration: 7 ---- final distance: 30818965.928178564\n",
      "K-Means cluster: 4 ---- No. of iteration: 5 ---- final distance: 17386586.55222388\n",
      "K-Means cluster: 5 ---- No. of iteration: 9 ---- final distance: 11952485.278751403\n",
      "K-Means cluster: 6 ---- No. of iteration: 9 ---- final distance: 12933249.739228837\n",
      "K-Means cluster: 7 ---- No. of iteration: 9 ---- final distance: 8997952.209806636\n",
      "K-Means cluster: 8 ---- No. of iteration: 9 ---- final distance: 7745461.022386361\n",
      "K-Means cluster: 9 ---- No. of iteration: 9 ---- final distance: 8826005.75569609\n",
      "K-Means cluster: 10 ---- No. of iteration: 7 ---- final distance: 6417804.395036268\n"
     ]
    },
    {
     "data": {
      "image/png": "[encoded data removed]",
      "text/plain": [
       "<Figure size 640x480 with 1 Axes>"
      ]
     },
     "metadata": {},
     "output_type": "display_data"
    },
    {
     "name": "stdout",
     "output_type": "stream",
     "text": [
      "Optimal number of clusters (k): 2\n"
     ]
    }
   ],
   "source": [
    "iteration = 10\n",
    "max_k = 10\n",
    "cost, K_list,centroid = checking_K(X, max_k, iteration, dist)\n",
    "plot(cost, K_list)\n",
    "optimal_k = find_k(cost, K_list)\n",
    "print(f\"Optimal number of clusters (k): {optimal_k}\")"
   ]
  },
  {
   "cell_type": "code",
   "execution_count": 11,
   "id": "f2ce077e",
   "metadata": {},
   "outputs": [],
   "source": [
    "test = centroid[optimal_k-1].astype(int)\n",
    "\n",
    "np.savetxt('kmeans_test_prediction.csv', test, delimiter=',', header='Test target', comments='')"
   ]
  },
  {
   "cell_type": "code",
   "execution_count": null,
   "id": "70c67c3f",
   "metadata": {},
   "outputs": [],
   "source": []
  }
 ],
 "metadata": {
  "kernelspec": {
   "display_name": "Python 3 (ipykernel)",
   "language": "python",
   "name": "python3"
  },
  "language_info": {
   "codemirror_mode": {
    "name": "ipython",
    "version": 3
   },
   "file_extension": ".py",
   "mimetype": "text/x-python",
   "name": "python",
   "nbconvert_exporter": "python",
   "pygments_lexer": "ipython3",
   "version": "3.11.4"
  }
 },
 "nbformat": 4,
 "nbformat_minor": 5
}
